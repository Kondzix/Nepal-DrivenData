{
 "cells": [
  {
   "cell_type": "code",
   "execution_count": 67,
   "metadata": {},
   "outputs": [],
   "source": [
    "import pandas as pd\n",
    "import matplotlib.pyplot as plt\n",
    "from ipywidgets import widgets\n",
    "\n",
    "from sklearn.linear_model import LogisticRegression\n",
    "from sklearn.model_selection import train_test_split\n",
    "from sklearn.metrics import f1_score \n",
    "from sklearn.pipeline import Pipeline\n",
    "from sklearn.model_selection import GridSearchCV"
   ]
  },
  {
   "cell_type": "markdown",
   "metadata": {},
   "source": [
    "# Get Data from Website"
   ]
  },
  {
   "cell_type": "markdown",
   "metadata": {},
   "source": [
    "!wget https://s3.amazonaws.com/drivendata/data/57/public/train_values.csv -nc -P ./nepal/\n",
    "\n",
    "!wget https://s3.amazonaws.com/drivendata/data/57/public/train_labels.csv -nc -P ./nepal/\n",
    "\n",
    "!wget https://s3.amazonaws.com/drivendata/data/57/public/test_values.csv -nc -P ./nepal/\n"
   ]
  },
  {
   "cell_type": "markdown",
   "metadata": {},
   "source": [
    "# Import Data"
   ]
  },
  {
   "cell_type": "code",
   "execution_count": 38,
   "metadata": {},
   "outputs": [],
   "source": [
    "X = pd.read_csv(\"./nepal/train_values.csv\",\n",
    "                index_col='building_id',\n",
    "                dtype={'geo_level_1_id': 'object',\n",
    "                       'geo_level_2_id': 'object',\n",
    "                       'geo_level_3_id': 'object'})"
   ]
  },
  {
   "cell_type": "code",
   "execution_count": 39,
   "metadata": {},
   "outputs": [
    {
     "data": {
      "text/html": [
       "<div>\n",
       "<style scoped>\n",
       "    .dataframe tbody tr th:only-of-type {\n",
       "        vertical-align: middle;\n",
       "    }\n",
       "\n",
       "    .dataframe tbody tr th {\n",
       "        vertical-align: top;\n",
       "    }\n",
       "\n",
       "    .dataframe thead th {\n",
       "        text-align: right;\n",
       "    }\n",
       "</style>\n",
       "<table border=\"1\" class=\"dataframe\">\n",
       "  <thead>\n",
       "    <tr style=\"text-align: right;\">\n",
       "      <th></th>\n",
       "      <th>geo_level_1_id</th>\n",
       "      <th>geo_level_2_id</th>\n",
       "      <th>geo_level_3_id</th>\n",
       "      <th>count_floors_pre_eq</th>\n",
       "      <th>age</th>\n",
       "      <th>area_percentage</th>\n",
       "      <th>height_percentage</th>\n",
       "      <th>land_surface_condition</th>\n",
       "      <th>foundation_type</th>\n",
       "      <th>roof_type</th>\n",
       "      <th>...</th>\n",
       "      <th>has_secondary_use_agriculture</th>\n",
       "      <th>has_secondary_use_hotel</th>\n",
       "      <th>has_secondary_use_rental</th>\n",
       "      <th>has_secondary_use_institution</th>\n",
       "      <th>has_secondary_use_school</th>\n",
       "      <th>has_secondary_use_industry</th>\n",
       "      <th>has_secondary_use_health_post</th>\n",
       "      <th>has_secondary_use_gov_office</th>\n",
       "      <th>has_secondary_use_use_police</th>\n",
       "      <th>has_secondary_use_other</th>\n",
       "    </tr>\n",
       "    <tr>\n",
       "      <th>building_id</th>\n",
       "      <th></th>\n",
       "      <th></th>\n",
       "      <th></th>\n",
       "      <th></th>\n",
       "      <th></th>\n",
       "      <th></th>\n",
       "      <th></th>\n",
       "      <th></th>\n",
       "      <th></th>\n",
       "      <th></th>\n",
       "      <th></th>\n",
       "      <th></th>\n",
       "      <th></th>\n",
       "      <th></th>\n",
       "      <th></th>\n",
       "      <th></th>\n",
       "      <th></th>\n",
       "      <th></th>\n",
       "      <th></th>\n",
       "      <th></th>\n",
       "      <th></th>\n",
       "    </tr>\n",
       "  </thead>\n",
       "  <tbody>\n",
       "    <tr>\n",
       "      <th>802906</th>\n",
       "      <td>6</td>\n",
       "      <td>487</td>\n",
       "      <td>12198</td>\n",
       "      <td>2</td>\n",
       "      <td>30</td>\n",
       "      <td>6</td>\n",
       "      <td>5</td>\n",
       "      <td>t</td>\n",
       "      <td>r</td>\n",
       "      <td>n</td>\n",
       "      <td>...</td>\n",
       "      <td>0</td>\n",
       "      <td>0</td>\n",
       "      <td>0</td>\n",
       "      <td>0</td>\n",
       "      <td>0</td>\n",
       "      <td>0</td>\n",
       "      <td>0</td>\n",
       "      <td>0</td>\n",
       "      <td>0</td>\n",
       "      <td>0</td>\n",
       "    </tr>\n",
       "    <tr>\n",
       "      <th>28830</th>\n",
       "      <td>8</td>\n",
       "      <td>900</td>\n",
       "      <td>2812</td>\n",
       "      <td>2</td>\n",
       "      <td>10</td>\n",
       "      <td>8</td>\n",
       "      <td>7</td>\n",
       "      <td>o</td>\n",
       "      <td>r</td>\n",
       "      <td>n</td>\n",
       "      <td>...</td>\n",
       "      <td>0</td>\n",
       "      <td>0</td>\n",
       "      <td>0</td>\n",
       "      <td>0</td>\n",
       "      <td>0</td>\n",
       "      <td>0</td>\n",
       "      <td>0</td>\n",
       "      <td>0</td>\n",
       "      <td>0</td>\n",
       "      <td>0</td>\n",
       "    </tr>\n",
       "    <tr>\n",
       "      <th>94947</th>\n",
       "      <td>21</td>\n",
       "      <td>363</td>\n",
       "      <td>8973</td>\n",
       "      <td>2</td>\n",
       "      <td>10</td>\n",
       "      <td>5</td>\n",
       "      <td>5</td>\n",
       "      <td>t</td>\n",
       "      <td>r</td>\n",
       "      <td>n</td>\n",
       "      <td>...</td>\n",
       "      <td>0</td>\n",
       "      <td>0</td>\n",
       "      <td>0</td>\n",
       "      <td>0</td>\n",
       "      <td>0</td>\n",
       "      <td>0</td>\n",
       "      <td>0</td>\n",
       "      <td>0</td>\n",
       "      <td>0</td>\n",
       "      <td>0</td>\n",
       "    </tr>\n",
       "    <tr>\n",
       "      <th>590882</th>\n",
       "      <td>22</td>\n",
       "      <td>418</td>\n",
       "      <td>10694</td>\n",
       "      <td>2</td>\n",
       "      <td>10</td>\n",
       "      <td>6</td>\n",
       "      <td>5</td>\n",
       "      <td>t</td>\n",
       "      <td>r</td>\n",
       "      <td>n</td>\n",
       "      <td>...</td>\n",
       "      <td>0</td>\n",
       "      <td>0</td>\n",
       "      <td>0</td>\n",
       "      <td>0</td>\n",
       "      <td>0</td>\n",
       "      <td>0</td>\n",
       "      <td>0</td>\n",
       "      <td>0</td>\n",
       "      <td>0</td>\n",
       "      <td>0</td>\n",
       "    </tr>\n",
       "    <tr>\n",
       "      <th>201944</th>\n",
       "      <td>11</td>\n",
       "      <td>131</td>\n",
       "      <td>1488</td>\n",
       "      <td>3</td>\n",
       "      <td>30</td>\n",
       "      <td>8</td>\n",
       "      <td>9</td>\n",
       "      <td>t</td>\n",
       "      <td>r</td>\n",
       "      <td>n</td>\n",
       "      <td>...</td>\n",
       "      <td>0</td>\n",
       "      <td>0</td>\n",
       "      <td>0</td>\n",
       "      <td>0</td>\n",
       "      <td>0</td>\n",
       "      <td>0</td>\n",
       "      <td>0</td>\n",
       "      <td>0</td>\n",
       "      <td>0</td>\n",
       "      <td>0</td>\n",
       "    </tr>\n",
       "  </tbody>\n",
       "</table>\n",
       "<p>5 rows × 38 columns</p>\n",
       "</div>"
      ],
      "text/plain": [
       "            geo_level_1_id geo_level_2_id geo_level_3_id  count_floors_pre_eq  \\\n",
       "building_id                                                                     \n",
       "802906                   6            487          12198                    2   \n",
       "28830                    8            900           2812                    2   \n",
       "94947                   21            363           8973                    2   \n",
       "590882                  22            418          10694                    2   \n",
       "201944                  11            131           1488                    3   \n",
       "\n",
       "             age  area_percentage  height_percentage land_surface_condition  \\\n",
       "building_id                                                                   \n",
       "802906        30                6                  5                      t   \n",
       "28830         10                8                  7                      o   \n",
       "94947         10                5                  5                      t   \n",
       "590882        10                6                  5                      t   \n",
       "201944        30                8                  9                      t   \n",
       "\n",
       "            foundation_type roof_type  ... has_secondary_use_agriculture  \\\n",
       "building_id                            ...                                 \n",
       "802906                    r         n  ...                             0   \n",
       "28830                     r         n  ...                             0   \n",
       "94947                     r         n  ...                             0   \n",
       "590882                    r         n  ...                             0   \n",
       "201944                    r         n  ...                             0   \n",
       "\n",
       "            has_secondary_use_hotel has_secondary_use_rental  \\\n",
       "building_id                                                    \n",
       "802906                            0                        0   \n",
       "28830                             0                        0   \n",
       "94947                             0                        0   \n",
       "590882                            0                        0   \n",
       "201944                            0                        0   \n",
       "\n",
       "            has_secondary_use_institution  has_secondary_use_school  \\\n",
       "building_id                                                           \n",
       "802906                                  0                         0   \n",
       "28830                                   0                         0   \n",
       "94947                                   0                         0   \n",
       "590882                                  0                         0   \n",
       "201944                                  0                         0   \n",
       "\n",
       "             has_secondary_use_industry  has_secondary_use_health_post  \\\n",
       "building_id                                                              \n",
       "802906                                0                              0   \n",
       "28830                                 0                              0   \n",
       "94947                                 0                              0   \n",
       "590882                                0                              0   \n",
       "201944                                0                              0   \n",
       "\n",
       "             has_secondary_use_gov_office  has_secondary_use_use_police  \\\n",
       "building_id                                                               \n",
       "802906                                  0                             0   \n",
       "28830                                   0                             0   \n",
       "94947                                   0                             0   \n",
       "590882                                  0                             0   \n",
       "201944                                  0                             0   \n",
       "\n",
       "             has_secondary_use_other  \n",
       "building_id                           \n",
       "802906                             0  \n",
       "28830                              0  \n",
       "94947                              0  \n",
       "590882                             0  \n",
       "201944                             0  \n",
       "\n",
       "[5 rows x 38 columns]"
      ]
     },
     "execution_count": 39,
     "metadata": {},
     "output_type": "execute_result"
    }
   ],
   "source": [
    "X.head()"
   ]
  },
  {
   "cell_type": "code",
   "execution_count": 40,
   "metadata": {},
   "outputs": [
    {
     "name": "stdout",
     "output_type": "stream",
     "text": [
      "<class 'pandas.core.frame.DataFrame'>\n",
      "Int64Index: 260601 entries, 802906 to 747594\n",
      "Data columns (total 38 columns):\n",
      "geo_level_1_id                            260601 non-null object\n",
      "geo_level_2_id                            260601 non-null object\n",
      "geo_level_3_id                            260601 non-null object\n",
      "count_floors_pre_eq                       260601 non-null int64\n",
      "age                                       260601 non-null int64\n",
      "area_percentage                           260601 non-null int64\n",
      "height_percentage                         260601 non-null int64\n",
      "land_surface_condition                    260601 non-null object\n",
      "foundation_type                           260601 non-null object\n",
      "roof_type                                 260601 non-null object\n",
      "ground_floor_type                         260601 non-null object\n",
      "other_floor_type                          260601 non-null object\n",
      "position                                  260601 non-null object\n",
      "plan_configuration                        260601 non-null object\n",
      "has_superstructure_adobe_mud              260601 non-null int64\n",
      "has_superstructure_mud_mortar_stone       260601 non-null int64\n",
      "has_superstructure_stone_flag             260601 non-null int64\n",
      "has_superstructure_cement_mortar_stone    260601 non-null int64\n",
      "has_superstructure_mud_mortar_brick       260601 non-null int64\n",
      "has_superstructure_cement_mortar_brick    260601 non-null int64\n",
      "has_superstructure_timber                 260601 non-null int64\n",
      "has_superstructure_bamboo                 260601 non-null int64\n",
      "has_superstructure_rc_non_engineered      260601 non-null int64\n",
      "has_superstructure_rc_engineered          260601 non-null int64\n",
      "has_superstructure_other                  260601 non-null int64\n",
      "legal_ownership_status                    260601 non-null object\n",
      "count_families                            260601 non-null int64\n",
      "has_secondary_use                         260601 non-null int64\n",
      "has_secondary_use_agriculture             260601 non-null int64\n",
      "has_secondary_use_hotel                   260601 non-null int64\n",
      "has_secondary_use_rental                  260601 non-null int64\n",
      "has_secondary_use_institution             260601 non-null int64\n",
      "has_secondary_use_school                  260601 non-null int64\n",
      "has_secondary_use_industry                260601 non-null int64\n",
      "has_secondary_use_health_post             260601 non-null int64\n",
      "has_secondary_use_gov_office              260601 non-null int64\n",
      "has_secondary_use_use_police              260601 non-null int64\n",
      "has_secondary_use_other                   260601 non-null int64\n",
      "dtypes: int64(27), object(11)\n",
      "memory usage: 77.5+ MB\n"
     ]
    }
   ],
   "source": [
    "X.info()"
   ]
  },
  {
   "cell_type": "code",
   "execution_count": 41,
   "metadata": {},
   "outputs": [],
   "source": [
    "y = pd.read_csv('nepal/train_labels.csv', index_col='building_id')['damage_grade']"
   ]
  },
  {
   "cell_type": "markdown",
   "metadata": {},
   "source": [
    "# Solutions 1: Model /w one feature "
   ]
  },
  {
   "cell_type": "code",
   "execution_count": 6,
   "metadata": {},
   "outputs": [
    {
     "data": {
      "application/vnd.jupyter.widget-view+json": {
       "model_id": "b9ceb3b42f5a4f76ae55c725152f38f0",
       "version_major": 2,
       "version_minor": 0
      },
      "text/plain": [
       "interactive(children=(Dropdown(description='column', options=('age', 'area_percentage', 'count_families', 'cou…"
      ]
     },
     "metadata": {},
     "output_type": "display_data"
    }
   ],
   "source": [
    "def housing_plot(X,y):\n",
    "    def plotter(column):\n",
    "        valid_rows = X[column].notna()\n",
    "        plt.plot(X.loc[valid_rows, column], y[valid_rows], '.', color='k')\n",
    "        plt.ylabel('Damage Level')\n",
    "        plt.yticks([1,2,3])\n",
    "        \n",
    "    return plotter\n",
    "\n",
    "dropdown_values = sorted(X.columns)\n",
    "widgets.interact(housing_plot(X,y), column=dropdown_values);"
   ]
  },
  {
   "cell_type": "code",
   "execution_count": 42,
   "metadata": {},
   "outputs": [
    {
     "data": {
      "text/html": [
       "<div>\n",
       "<style scoped>\n",
       "    .dataframe tbody tr th:only-of-type {\n",
       "        vertical-align: middle;\n",
       "    }\n",
       "\n",
       "    .dataframe tbody tr th {\n",
       "        vertical-align: top;\n",
       "    }\n",
       "\n",
       "    .dataframe thead th {\n",
       "        text-align: right;\n",
       "    }\n",
       "</style>\n",
       "<table border=\"1\" class=\"dataframe\">\n",
       "  <thead>\n",
       "    <tr style=\"text-align: right;\">\n",
       "      <th></th>\n",
       "      <th>height_percentage</th>\n",
       "    </tr>\n",
       "    <tr>\n",
       "      <th>building_id</th>\n",
       "      <th></th>\n",
       "    </tr>\n",
       "  </thead>\n",
       "  <tbody>\n",
       "    <tr>\n",
       "      <th>802906</th>\n",
       "      <td>5</td>\n",
       "    </tr>\n",
       "    <tr>\n",
       "      <th>28830</th>\n",
       "      <td>7</td>\n",
       "    </tr>\n",
       "    <tr>\n",
       "      <th>94947</th>\n",
       "      <td>5</td>\n",
       "    </tr>\n",
       "    <tr>\n",
       "      <th>590882</th>\n",
       "      <td>5</td>\n",
       "    </tr>\n",
       "    <tr>\n",
       "      <th>201944</th>\n",
       "      <td>9</td>\n",
       "    </tr>\n",
       "  </tbody>\n",
       "</table>\n",
       "</div>"
      ],
      "text/plain": [
       "             height_percentage\n",
       "building_id                   \n",
       "802906                       5\n",
       "28830                        7\n",
       "94947                        5\n",
       "590882                       5\n",
       "201944                       9"
      ]
     },
     "execution_count": 42,
     "metadata": {},
     "output_type": "execute_result"
    }
   ],
   "source": [
    "X_height = X[['height_percentage']]\n",
    "X_height.head()"
   ]
  },
  {
   "cell_type": "code",
   "execution_count": 8,
   "metadata": {},
   "outputs": [],
   "source": [
    "X_train, X_test, y_train, y_test = train_test_split(X_height, y, test_size=0.2, random_state=42)"
   ]
  },
  {
   "cell_type": "code",
   "execution_count": 9,
   "metadata": {},
   "outputs": [
    {
     "data": {
      "text/plain": [
       "LogisticRegression(C=1.0, class_weight=None, dual=False, fit_intercept=True,\n",
       "          intercept_scaling=1, max_iter=100, multi_class='auto',\n",
       "          n_jobs=None, penalty='l2', random_state=None, solver='lbfgs',\n",
       "          tol=0.0001, verbose=0, warm_start=False)"
      ]
     },
     "execution_count": 9,
     "metadata": {},
     "output_type": "execute_result"
    }
   ],
   "source": [
    "one_feat_model = LogisticRegression(solver='lbfgs', multi_class='auto')\n",
    "one_feat_model.fit(X_train, y_train)"
   ]
  },
  {
   "cell_type": "markdown",
   "metadata": {},
   "source": [
    "# Compare in- and out-sample metrics (f1 score)"
   ]
  },
  {
   "cell_type": "code",
   "execution_count": 10,
   "metadata": {},
   "outputs": [
    {
     "name": "stdout",
     "output_type": "stream",
     "text": [
      "In-sample f1 score:\n"
     ]
    },
    {
     "data": {
      "text/plain": [
       "0.5699779355333845"
      ]
     },
     "execution_count": 10,
     "metadata": {},
     "output_type": "execute_result"
    }
   ],
   "source": [
    "y_train_pred = one_feat_model.predict(X_train)\n",
    "\n",
    "print(\"In-sample f1 score:\")\n",
    "f1_score(y_train, y_train_pred, average='micro')"
   ]
  },
  {
   "cell_type": "code",
   "execution_count": 11,
   "metadata": {},
   "outputs": [
    {
     "name": "stdout",
     "output_type": "stream",
     "text": [
      "Out-sample f1 score:\n"
     ]
    },
    {
     "data": {
      "text/plain": [
       "0.5660290477926364"
      ]
     },
     "execution_count": 11,
     "metadata": {},
     "output_type": "execute_result"
    }
   ],
   "source": [
    "y_test_pred = one_feat_model.predict(X_test)\n",
    "\n",
    "print(\"Out-sample f1 score:\")\n",
    "f1_score(y_test, y_test_pred, average='micro')"
   ]
  },
  {
   "cell_type": "markdown",
   "metadata": {},
   "source": [
    "# Create submission"
   ]
  },
  {
   "cell_type": "code",
   "execution_count": 23,
   "metadata": {},
   "outputs": [],
   "source": [
    "def create_submission(model, X_cols=None):\n",
    "    X = pd.read_csv(\"./nepal/test_values.csv\", index_col='building_id')\n",
    "    if X_cols != None:\n",
    "        X = X[X_cols]\n",
    "    y_pred = model.predict(X)\n",
    "    submission = pd.DataFrame(y_pred, index=X.index,\n",
    "                              columns=['damage_grade'])\n",
    "    date_string = pd.Timestamp.utcnow().strftime(format='%Y-%m-%d_%H%M_')\n",
    "    submission.to_csv(f'nepal/{date_string}submission_csv')"
   ]
  },
  {
   "cell_type": "code",
   "execution_count": 13,
   "metadata": {},
   "outputs": [],
   "source": [
    "create_submission(one_feat_model, ['height_percentage'])"
   ]
  },
  {
   "cell_type": "markdown",
   "metadata": {},
   "source": [
    "## Score: 0.56"
   ]
  },
  {
   "cell_type": "markdown",
   "metadata": {},
   "source": [
    "# Solutions 2: All Numerical Features - Logistic Regression"
   ]
  },
  {
   "cell_type": "code",
   "execution_count": 58,
   "metadata": {},
   "outputs": [],
   "source": [
    "numerical_features = list(X.describe().columns)"
   ]
  },
  {
   "cell_type": "code",
   "execution_count": 59,
   "metadata": {},
   "outputs": [],
   "source": [
    "X_train, X_test, y_train, y_test = train_test_split(X, y, test_size=0.2, random_state=42)"
   ]
  },
  {
   "cell_type": "code",
   "execution_count": 60,
   "metadata": {},
   "outputs": [
    {
     "name": "stdout",
     "output_type": "stream",
     "text": [
      "In-sample f1 score:\n"
     ]
    },
    {
     "name": "stderr",
     "output_type": "stream",
     "text": [
      "C:\\Users\\konra\\Anaconda3\\lib\\site-packages\\sklearn\\linear_model\\logistic.py:758: ConvergenceWarning: lbfgs failed to converge. Increase the number of iterations.\n",
      "  \"of iterations.\", ConvergenceWarning)\n"
     ]
    },
    {
     "data": {
      "text/plain": [
       "0.5762135456638526"
      ]
     },
     "execution_count": 60,
     "metadata": {},
     "output_type": "execute_result"
    }
   ],
   "source": [
    "num_feat_model = LogisticRegression(solver='lbfgs', max_iter=1000, multi_class='auto')\n",
    "num_feat_model.fit(X_train[numerical_features], y_train)\n",
    "y_train_pred = num_feat_model.predict(X_train[numerical_features])\n",
    " \n",
    "print('In-sample f1 score:')\n",
    "f1_score(y_train, y_train_pred, average='micro')"
   ]
  },
  {
   "cell_type": "code",
   "execution_count": 61,
   "metadata": {},
   "outputs": [
    {
     "name": "stdout",
     "output_type": "stream",
     "text": [
      "Out-sample f1 score:\n"
     ]
    },
    {
     "data": {
      "text/plain": [
       "0.5758523435851193"
      ]
     },
     "execution_count": 61,
     "metadata": {},
     "output_type": "execute_result"
    }
   ],
   "source": [
    "y_test_pred = num_feat_model.predict(X_test[numerical_features])\n",
    "\n",
    "print('Out-sample f1 score:')\n",
    "f1_score(y_test, y_test_pred, average='micro')"
   ]
  },
  {
   "cell_type": "markdown",
   "metadata": {},
   "source": [
    "# Solutions 3: All Numerical Features - Gradient Boosting Classifier"
   ]
  },
  {
   "cell_type": "code",
   "execution_count": 79,
   "metadata": {},
   "outputs": [
    {
     "name": "stdout",
     "output_type": "stream",
     "text": [
      "In-sample f1 score:\n"
     ]
    },
    {
     "data": {
      "text/plain": [
       "0.5762135456638526"
      ]
     },
     "execution_count": 79,
     "metadata": {},
     "output_type": "execute_result"
    }
   ],
   "source": [
    "from sklearn.ensemble import GradientBoostingClassifier\n",
    "\n",
    "xg_num_model = GradientBoostingClassifier()\n",
    "xg_num_model.fit(X_train[numerical_features], y_train)\n",
    "y_train_pred = num_feat_model.predict(X_train[numerical_features])\n",
    "\n",
    "print('In-sample f1 score:')\n",
    "f1_score(y_train, y_train_pred, average='micro')"
   ]
  },
  {
   "cell_type": "code",
   "execution_count": 80,
   "metadata": {},
   "outputs": [
    {
     "name": "stdout",
     "output_type": "stream",
     "text": [
      "Out-sample f1 score:\n"
     ]
    },
    {
     "data": {
      "text/plain": [
       "0.5902227509065444"
      ]
     },
     "execution_count": 80,
     "metadata": {},
     "output_type": "execute_result"
    }
   ],
   "source": [
    "y_test_pred = xg_num_model.predict(X_test[numerical_features])\n",
    "\n",
    "print('Out-sample f1 score:')\n",
    "f1_score(y_test, y_test_pred, average='micro')"
   ]
  },
  {
   "cell_type": "code",
   "execution_count": 81,
   "metadata": {},
   "outputs": [],
   "source": [
    "create_submission(xg_num_model, numerical_features)"
   ]
  },
  {
   "cell_type": "markdown",
   "metadata": {},
   "source": [
    "# Solutions 4: All Numerical Features - Random Forest Classifier with some GridSearchCV"
   ]
  },
  {
   "cell_type": "code",
   "execution_count": 63,
   "metadata": {},
   "outputs": [
    {
     "name": "stderr",
     "output_type": "stream",
     "text": [
      "C:\\Users\\konra\\Anaconda3\\lib\\site-packages\\sklearn\\ensemble\\forest.py:246: FutureWarning: The default value of n_estimators will change from 10 in version 0.20 to 100 in 0.22.\n",
      "  \"10 in version 0.20 to 100 in 0.22.\", FutureWarning)\n"
     ]
    },
    {
     "name": "stdout",
     "output_type": "stream",
     "text": [
      "In-sample f1 score:\n"
     ]
    },
    {
     "data": {
      "text/plain": [
       "0.5762135456638526"
      ]
     },
     "execution_count": 63,
     "metadata": {},
     "output_type": "execute_result"
    }
   ],
   "source": [
    "from sklearn.ensemble import RandomForestClassifier\n",
    "\n",
    "\n",
    "rand_for_model = RandomForestClassifier(n)\n",
    "rand_for_model.fit(X_train[numerical_features], y_train)\n",
    "y_train_pred = num_feat_model.predict(X_train[numerical_features])\n",
    "\n",
    "print('In-sample f1 score:')\n",
    "f1_score(y_train, y_train_pred, average='micro')"
   ]
  },
  {
   "cell_type": "code",
   "execution_count": 74,
   "metadata": {},
   "outputs": [],
   "source": [
    "param_grid = {'max_depth': range(4,11,2),\n",
    "              'min_samples_leaf': range(250,301,50),\n",
    "              'n_estimators': range(100,251,50),\n",
    "              'class_weight': ['balanced', 'balanced_subsample', None]}\n",
    "\n",
    "gs = GridSearchCV(RandomForestClassifier(), \n",
    "                        param_grid=param_grid,\n",
    "                        cv=5,\n",
    "                        n_jobs=12,\n",
    "                        verbose=1)\n",
    "\n"
   ]
  },
  {
   "cell_type": "code",
   "execution_count": 75,
   "metadata": {},
   "outputs": [],
   "source": [
    "random_forest_model = Pipeline([\n",
    "    ('gs', gs)\n",
    "])"
   ]
  },
  {
   "cell_type": "code",
   "execution_count": 76,
   "metadata": {},
   "outputs": [
    {
     "name": "stdout",
     "output_type": "stream",
     "text": [
      "Fitting 5 folds for each of 96 candidates, totalling 480 fits\n"
     ]
    },
    {
     "name": "stderr",
     "output_type": "stream",
     "text": [
      "[Parallel(n_jobs=12)]: Using backend LokyBackend with 12 concurrent workers.\n",
      "[Parallel(n_jobs=12)]: Done  26 tasks      | elapsed:  1.6min\n",
      "[Parallel(n_jobs=12)]: Done 176 tasks      | elapsed: 13.2min\n",
      "[Parallel(n_jobs=12)]: Done 426 tasks      | elapsed: 34.6min\n",
      "[Parallel(n_jobs=12)]: Done 480 out of 480 | elapsed: 39.1min finished\n"
     ]
    },
    {
     "name": "stdout",
     "output_type": "stream",
     "text": [
      "In-sample f1 score:\n"
     ]
    },
    {
     "data": {
      "text/plain": [
       "0.5864543361473523"
      ]
     },
     "execution_count": 76,
     "metadata": {},
     "output_type": "execute_result"
    }
   ],
   "source": [
    "random_forest_model.fit(X_train[numerical_features], y_train)\n",
    "y_train_pred = random_forest_model.predict(X_train[numerical_features])\n",
    "\n",
    "print('In-sample f1 score:')\n",
    "f1_score(y_train, y_train_pred, average='micro')"
   ]
  },
  {
   "cell_type": "code",
   "execution_count": 77,
   "metadata": {},
   "outputs": [
    {
     "name": "stdout",
     "output_type": "stream",
     "text": [
      "Out-sample f1 score:\n"
     ]
    },
    {
     "data": {
      "text/plain": [
       "0.583430862800023"
      ]
     },
     "execution_count": 77,
     "metadata": {},
     "output_type": "execute_result"
    }
   ],
   "source": [
    "y_test_pred = random_forest_model.predict(X_test[numerical_features])\n",
    "\n",
    "print('Out-sample f1 score:')\n",
    "f1_score(y_test, y_test_pred, average='micro')"
   ]
  },
  {
   "cell_type": "code",
   "execution_count": null,
   "metadata": {},
   "outputs": [],
   "source": []
  }
 ],
 "metadata": {
  "kernelspec": {
   "display_name": "Python 3",
   "language": "python",
   "name": "python3"
  },
  "language_info": {
   "codemirror_mode": {
    "name": "ipython",
    "version": 3
   },
   "file_extension": ".py",
   "mimetype": "text/x-python",
   "name": "python",
   "nbconvert_exporter": "python",
   "pygments_lexer": "ipython3",
   "version": "3.7.3"
  }
 },
 "nbformat": 4,
 "nbformat_minor": 2
}
